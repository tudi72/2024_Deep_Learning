{
 "cells": [
  {
   "cell_type": "code",
   "execution_count": null,
   "metadata": {},
   "outputs": [],
   "source": []
  },
  {
   "cell_type": "markdown",
   "metadata": {},
   "source": [
    "## Blue Scores"
   ]
  },
  {
   "cell_type": "markdown",
   "metadata": {},
   "source": [
    "$$\n",
    "\\begin{array}{cccccc}\n",
    "    \\textbf{Model} &\\textbf{Parameters} & \\textbf{BLEU}_1 & \\textbf{BLEU}_2 & \\textbf{BLEU}_3 & \\textbf{BLEU}_4 \\\\\n",
    "    \\hline\n",
    "    \\textbf{Model-1} &     & 0.3887 & 0.2265 & 0.1280 & 0.0839 \\\\\n",
    "    \\textbf{Model-3-NODE1-5epochs} &  \\textit{5 epochs}   & 0.5163 & 0.3152 & 0.1762 & 0.1031 \\\\\n",
    "    \\end{array}\n",
    "$$\n"
   ]
  }
 ],
 "metadata": {
  "language_info": {
   "name": "python"
  }
 },
 "nbformat": 4,
 "nbformat_minor": 2
}
